{
 "cells": [
  {
   "cell_type": "markdown",
   "id": "0d445ef1-712d-41d0-89fa-389fb8cdc589",
   "metadata": {},
   "source": [
    "## Time evolving foliar CN vs CO2, multiplicative model"
   ]
  },
  {
   "cell_type": "markdown",
   "id": "f4b3fa23-6f65-48b2-b4fb-73ed53a0e99e",
   "metadata": {},
   "source": [
    "These plots are similar to those in the CN_CO2Global notebook except that the equation relating foliar CN and CO2 is multiplicative instead of additive. "
   ]
  },
  {
   "cell_type": "markdown",
   "id": "bd3fc910-4dd8-4cdf-9b8f-fda1f07296e6",
   "metadata": {},
   "source": [
    "### Read in data"
   ]
  },
  {
   "cell_type": "code",
   "execution_count": 1,
   "id": "260f5ceb-2eba-4980-8723-bb21f88b6bb6",
   "metadata": {},
   "outputs": [],
   "source": [
    "#Load necessary packages for data visualization \n",
    "import xarray as xr\n",
    "from ctsm_py import utils\n",
    "#import utils\n",
    "import numpy as np\n",
    "import pandas as pd\n",
    "from netCDF4 import num2date\n",
    "import dask \n",
    "\n",
    "#some resources for plotting\n",
    "import matplotlib\n",
    "import matplotlib.pyplot as plt\n",
    "import cartopy\n",
    "import cartopy.crs as ccrs\n",
    "import cartopy.feature as cfeature\n",
    "import os,sys\n",
    "from matplotlib import cm\n",
    "from matplotlib.colors import ListedColormap,LinearSegmentedColormap\n",
    "\n",
    "%matplotlib inline\n",
    "\n"
   ]
  },
  {
   "cell_type": "code",
   "execution_count": 4,
   "id": "abd13d0b-c139-4e50-8c8f-36f4292f081f",
   "metadata": {},
   "outputs": [
    {
     "name": "stdout",
     "output_type": "stream",
     "text": [
      "/glade/scratch/wwieder/archive/ctsm51d074_2deg_GSWP3V1_hist_cnSlope0/lnd/hist/concat/ctsm51d074_2deg_GSWP3V1_hist_cnSlope0_cat.nc\n",
      "/glade/scratch/wwieder/archive/ctsm51d074_2deg_GSWP3V1_hist_cnMulti/lnd/hist/ctsm51d074_2deg_GSWP3V1_hist_cnMulti.clm2.h0.1850-01.nc\n"
     ]
    }
   ],
   "source": [
    "# User defined options\n",
    "model = 'CLM5_GSWP3'\n",
    "## Read in slope 0 and slope 20 cases\n",
    "archive = '/glade/scratch/wwieder/archive/'\n",
    "caseShort = ['cnSlope0', 'cnSlope20', 'cn_flex_c']\n",
    "cases = ['ctsm51d074_2deg_GSWP3V1_hist_'+short for short in caseShort]\n",
    "path = '/lnd/hist/'\n",
    "fin = [archive + case + path + \"concat/\" + case + '_cat.nc' for case in cases]\n",
    "print(fin[0])\n",
    "\n",
    "# Read in files for .area and .landfrac, and cnMulti case\n",
    "caseShort = ['cnSlope0', 'cnSlope20', 'cn_flex_c', 'cnMulti']\n",
    "cases = ['ctsm51d074_2deg_GSWP3V1_hist_'+short for short in caseShort]\n",
    "fin2 = [archive + case + path + case + '.clm2.h0.1850-01.nc' for case in cases]\n",
    "print(fin2[3])\n"
   ]
  },
  {
   "cell_type": "code",
   "execution_count": null,
   "id": "6c0f5cf1-630f-4731-bf00-e5b0025540b3",
   "metadata": {},
   "outputs": [],
   "source": []
  }
 ],
 "metadata": {
  "kernelspec": {
   "display_name": "Python [conda env:miniconda-analysis]",
   "language": "python",
   "name": "conda-env-miniconda-analysis-py"
  },
  "language_info": {
   "codemirror_mode": {
    "name": "ipython",
    "version": 3
   },
   "file_extension": ".py",
   "mimetype": "text/x-python",
   "name": "python",
   "nbconvert_exporter": "python",
   "pygments_lexer": "ipython3",
   "version": "3.10.2"
  }
 },
 "nbformat": 4,
 "nbformat_minor": 5
}
