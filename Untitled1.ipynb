{
 "cells": [
  {
   "cell_type": "markdown",
   "id": "fbd0b045-2981-4c6b-b88d-9129ab2f0d1c",
   "metadata": {},
   "source": [
    "### Flexible Foliar CN in CLM, manuscript figures"
   ]
  },
  {
   "cell_type": "code",
   "execution_count": 2,
   "id": "0483003e-8879-4911-84f7-2b07da193bb7",
   "metadata": {},
   "outputs": [],
   "source": [
    "#Load necessary packages for data visualization \n",
    "import xarray as xr\n",
    "from ctsm_py import utils\n",
    "#import utils\n",
    "import numpy as np\n",
    "import pandas as pd\n",
    "from netCDF4 import num2date\n",
    "import dask \n",
    "from scipy import stats\n",
    "\n",
    "#some resources for plotting\n",
    "import matplotlib\n",
    "import matplotlib.pyplot as plt\n",
    "import cartopy\n",
    "import cartopy.crs as ccrs\n",
    "import cartopy.feature as cfeature\n",
    "import os,sys\n",
    "from matplotlib import cm\n",
    "from matplotlib.colors import ListedColormap,LinearSegmentedColormap\n",
    "\n",
    "%matplotlib inline\n",
    "import pandas as pd\n",
    "import datetime as dt\n",
    "from datetime import datetime\n",
    "\n",
    "import seaborn as sns\n",
    "import math as mt\n",
    "import matplotlib.colors as colors"
   ]
  },
  {
   "cell_type": "code",
   "execution_count": null,
   "id": "5347b29e-c3d4-406f-b154-9c26c978ef9e",
   "metadata": {},
   "outputs": [],
   "source": []
  }
 ],
 "metadata": {
  "kernelspec": {
   "display_name": "Python [conda env:miniconda-analysis]",
   "language": "python",
   "name": "conda-env-miniconda-analysis-py"
  },
  "language_info": {
   "codemirror_mode": {
    "name": "ipython",
    "version": 3
   },
   "file_extension": ".py",
   "mimetype": "text/x-python",
   "name": "python",
   "nbconvert_exporter": "python",
   "pygments_lexer": "ipython3",
   "version": "3.10.2"
  }
 },
 "nbformat": 4,
 "nbformat_minor": 5
}
